{
 "cells": [
  {
   "cell_type": "markdown",
   "metadata": {},
   "source": [
    "# Exegesis\n",
    "\n",
    "Preprocessing tool.\n"
   ]
  },
  {
   "cell_type": "code",
   "execution_count": 73,
   "metadata": {},
   "outputs": [],
   "source": [
    "import re"
   ]
  },
  {
   "cell_type": "code",
   "execution_count": 74,
   "metadata": {},
   "outputs": [],
   "source": [
    "FILE_NAME = \"steiner\"\n",
    "INPUT_FILE = f\"../../data/input/{FILE_NAME}.md\"\n",
    "OUTPUT_FILE = f\"../../data/output/{FILE_NAME}.jsonl\""
   ]
  },
  {
   "cell_type": "code",
   "execution_count": 75,
   "metadata": {},
   "outputs": [],
   "source": [
    "with open(INPUT_FILE, \"r\", encoding=\"utf-8\") as f:\n",
    "    lines = f.readlines()"
   ]
  },
  {
   "cell_type": "code",
   "execution_count": 76,
   "metadata": {},
   "outputs": [],
   "source": [
    "def fix_ellipses(text):\n",
    "    result = re.sub(r\"(?<!\\s)\\.\\.\\.\", \"…\", text)\n",
    "    result = result.replace(\"...\", \"…\")\n",
    "    return result\n",
    "\n",
    "\n",
    "def collapse_paragraph(lines: list[str]) -> list[str]:\n",
    "    paragraphs = []\n",
    "    current_paragraph = []\n",
    "\n",
    "    for line in lines:\n",
    "        if line.strip():\n",
    "            current_paragraph.append(line.strip())\n",
    "        elif current_paragraph:\n",
    "            paragraphs.append(\" \".join(current_paragraph))\n",
    "            current_paragraph = []\n",
    "\n",
    "    if current_paragraph:\n",
    "        paragraphs.append(\" \".join(current_paragraph))\n",
    "\n",
    "    return paragraphs"
   ]
  },
  {
   "cell_type": "code",
   "execution_count": 77,
   "metadata": {},
   "outputs": [],
   "source": [
    "# sub ... for …\n",
    "# lines = [fix_ellipses(line) for line in lines]\n",
    "\n",
    "# remove footnotes '(30)'\n",
    "lines = [re.sub(r\"\\(\\d+\\)\", \"\", line) for line in lines]\n",
    "\n",
    "# drop titles\n",
    "lines = [line for line in lines if not re.match(\"##\", line)]\n",
    "\n",
    "# collapse paragraphs\n",
    "lines = collapse_paragraph(lines)\n",
    "\n",
    "# removed multiple spaces\n",
    "lines = [re.sub(r\"\\s+\", \" \", line) for line in lines]"
   ]
  },
  {
   "cell_type": "code",
   "execution_count": 78,
   "metadata": {},
   "outputs": [],
   "source": [
    "with open(OUTPUT_FILE, \"w\", encoding=\"utf-8\") as f:\n",
    "    f.writelines(lines)"
   ]
  },
  {
   "cell_type": "code",
   "execution_count": 79,
   "metadata": {},
   "outputs": [],
   "source": [
    "from typing import Generator\n",
    "\n",
    "\n",
    "def make_jsonl(lines: list[str]) -> Generator:\n",
    "    for i in range(len(lines)):\n",
    "\n",
    "        if i == len(lines) - 1:\n",
    "            break\n",
    "\n",
    "        yield {\n",
    "            \"messages\": [\n",
    "                {\"role\": \"user\", \"content\": lines[i]},\n",
    "                {\"role\": \"assistant\", \"content\": lines[i + 1]},\n",
    "            ]\n",
    "        }"
   ]
  },
  {
   "cell_type": "code",
   "execution_count": null,
   "metadata": {},
   "outputs": [],
   "source": [
    "items = list(make_jsonl(lines))"
   ]
  },
  {
   "cell_type": "code",
   "execution_count": 80,
   "metadata": {},
   "outputs": [],
   "source": [
    "import json\n",
    "\n",
    "# save list. skip last item to not leave a \\n hanging at the end\n",
    "with open(OUTPUT_FILE, \"w\", encoding=\"utf-8\") as f:\n",
    "    for i, item in enumerate(items):\n",
    "        json.dump(item, f)\n",
    "        if i < len(items) - 1:\n",
    "            f.write(\"\\n\")"
   ]
  }
 ],
 "metadata": {
  "kernelspec": {
   "display_name": ".venv",
   "language": "python",
   "name": "python3"
  },
  "language_info": {
   "codemirror_mode": {
    "name": "ipython",
    "version": 3
   },
   "file_extension": ".py",
   "mimetype": "text/x-python",
   "name": "python",
   "nbconvert_exporter": "python",
   "pygments_lexer": "ipython3",
   "version": "3.10.12"
  }
 },
 "nbformat": 4,
 "nbformat_minor": 2
}
