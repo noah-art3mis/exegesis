{
 "cells": [
  {
   "cell_type": "markdown",
   "metadata": {},
   "source": [
    "# Exegesis\n",
    "\n",
    "Preprocessing tool.\n"
   ]
  },
  {
   "cell_type": "code",
   "execution_count": 7,
   "metadata": {},
   "outputs": [],
   "source": [
    "import re\n",
    "import nltk"
   ]
  },
  {
   "cell_type": "code",
   "execution_count": 8,
   "metadata": {},
   "outputs": [
    {
     "name": "stderr",
     "output_type": "stream",
     "text": [
      "[nltk_data] Downloading package punkt to /home/art3mis/nltk_data...\n",
      "[nltk_data]   Package punkt is already up-to-date!\n",
      "[nltk_data] Downloading package punkt_tab to\n",
      "[nltk_data]     /home/art3mis/nltk_data...\n",
      "[nltk_data]   Unzipping tokenizers/punkt_tab.zip.\n"
     ]
    },
    {
     "data": {
      "text/plain": [
       "True"
      ]
     },
     "execution_count": 8,
     "metadata": {},
     "output_type": "execute_result"
    }
   ],
   "source": [
    "nltk.download(\"punkt\")\n",
    "nltk.download(\"punkt_tab\")"
   ]
  },
  {
   "cell_type": "code",
   "execution_count": 9,
   "metadata": {},
   "outputs": [],
   "source": [
    "FILE_NAME = \"steiner\"\n",
    "SUFFIX = \"sent\"\n",
    "\n",
    "INPUT_FILE = f\"../../data/input/{FILE_NAME}.md\"\n",
    "OUTPUT_FILE = f\"../../data/output/{FILE_NAME}_{SUFFIX}.txt\""
   ]
  },
  {
   "cell_type": "code",
   "execution_count": 10,
   "metadata": {},
   "outputs": [],
   "source": [
    "with open(INPUT_FILE, \"r\", encoding=\"utf-8\") as f:\n",
    "    lines = f.readlines()"
   ]
  },
  {
   "cell_type": "code",
   "execution_count": 11,
   "metadata": {},
   "outputs": [],
   "source": [
    "def fix_ellipses(text):\n",
    "    result = re.sub(r\"(?<!\\s)\\.\\.\\.\", \"…\", text)\n",
    "    result = result.replace(\"...\", \"…\")\n",
    "    return result"
   ]
  },
  {
   "cell_type": "code",
   "execution_count": 12,
   "metadata": {},
   "outputs": [],
   "source": [
    "# sub ... for …\n",
    "# lines = [fix_ellipses(line) for line in lines]\n",
    "\n",
    "# remove footnotes '(30)'\n",
    "lines = [re.sub(r\"\\(\\d+\\)\", \"\", line) for line in lines]\n",
    "\n",
    "# drop titles\n",
    "lines = [line for line in lines if not re.match(\"##\", line)]\n",
    "\n",
    "# removed multiple spaces\n",
    "lines = [re.sub(r\"\\s+\", \" \", line) for line in lines]\n",
    "\n",
    "# separate sentences\n",
    "text = \"\".join(lines)\n",
    "lines = nltk.sent_tokenize(text)"
   ]
  },
  {
   "cell_type": "code",
   "execution_count": 13,
   "metadata": {},
   "outputs": [],
   "source": [
    "with open(OUTPUT_FILE, \"w\", encoding=\"utf-8\") as f:\n",
    "    f.write(\"\\n\".join(lines))"
   ]
  }
 ],
 "metadata": {
  "kernelspec": {
   "display_name": ".venv",
   "language": "python",
   "name": "python3"
  },
  "language_info": {
   "codemirror_mode": {
    "name": "ipython",
    "version": 3
   },
   "file_extension": ".py",
   "mimetype": "text/x-python",
   "name": "python",
   "nbconvert_exporter": "python",
   "pygments_lexer": "ipython3",
   "version": "3.10.12"
  }
 },
 "nbformat": 4,
 "nbformat_minor": 2
}
